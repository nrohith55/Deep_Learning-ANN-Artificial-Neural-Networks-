{
  "nbformat": 4,
  "nbformat_minor": 0,
  "metadata": {
    "colab": {
      "name": "ANN.ipynb",
      "provenance": []
    },
    "kernelspec": {
      "name": "python3",
      "display_name": "Python 3"
    },
    "accelerator": "GPU"
  },
  "cells": [
    {
      "cell_type": "code",
      "metadata": {
        "id": "0842L-sQ7Kdx",
        "colab_type": "code",
        "colab": {}
      },
      "source": [
        "#Artificial Neural network : Churn Modelling"
      ],
      "execution_count": 1,
      "outputs": []
    },
    {
      "cell_type": "code",
      "metadata": {
        "id": "o1xR4bel7g2X",
        "colab_type": "code",
        "colab": {}
      },
      "source": [
        "import pandas as pd\n",
        "import numpy as np\n",
        "import matplotlib.pyplot as plt"
      ],
      "execution_count": 2,
      "outputs": []
    },
    {
      "cell_type": "code",
      "metadata": {
        "id": "av33jyQ27rCc",
        "colab_type": "code",
        "colab": {}
      },
      "source": [
        "df=pd.read_csv(\"/content/drive/My Drive/Deep learning/Churn_Modelling.csv\")"
      ],
      "execution_count": 3,
      "outputs": []
    },
    {
      "cell_type": "code",
      "metadata": {
        "id": "cpVvokt87yZ9",
        "colab_type": "code",
        "colab": {
          "base_uri": "https://localhost:8080/",
          "height": 204
        },
        "outputId": "47978618-55bd-461d-957e-60893addbcc1"
      },
      "source": [
        "df.head()"
      ],
      "execution_count": 4,
      "outputs": [
        {
          "output_type": "execute_result",
          "data": {
            "text/html": [
              "<div>\n",
              "<style scoped>\n",
              "    .dataframe tbody tr th:only-of-type {\n",
              "        vertical-align: middle;\n",
              "    }\n",
              "\n",
              "    .dataframe tbody tr th {\n",
              "        vertical-align: top;\n",
              "    }\n",
              "\n",
              "    .dataframe thead th {\n",
              "        text-align: right;\n",
              "    }\n",
              "</style>\n",
              "<table border=\"1\" class=\"dataframe\">\n",
              "  <thead>\n",
              "    <tr style=\"text-align: right;\">\n",
              "      <th></th>\n",
              "      <th>RowNumber</th>\n",
              "      <th>CustomerId</th>\n",
              "      <th>Surname</th>\n",
              "      <th>CreditScore</th>\n",
              "      <th>Geography</th>\n",
              "      <th>Gender</th>\n",
              "      <th>Age</th>\n",
              "      <th>Tenure</th>\n",
              "      <th>Balance</th>\n",
              "      <th>NumOfProducts</th>\n",
              "      <th>HasCrCard</th>\n",
              "      <th>IsActiveMember</th>\n",
              "      <th>EstimatedSalary</th>\n",
              "      <th>Exited</th>\n",
              "    </tr>\n",
              "  </thead>\n",
              "  <tbody>\n",
              "    <tr>\n",
              "      <th>0</th>\n",
              "      <td>1</td>\n",
              "      <td>15634602</td>\n",
              "      <td>Hargrave</td>\n",
              "      <td>619</td>\n",
              "      <td>France</td>\n",
              "      <td>Female</td>\n",
              "      <td>42</td>\n",
              "      <td>2</td>\n",
              "      <td>0.00</td>\n",
              "      <td>1</td>\n",
              "      <td>1</td>\n",
              "      <td>1</td>\n",
              "      <td>101348.88</td>\n",
              "      <td>1</td>\n",
              "    </tr>\n",
              "    <tr>\n",
              "      <th>1</th>\n",
              "      <td>2</td>\n",
              "      <td>15647311</td>\n",
              "      <td>Hill</td>\n",
              "      <td>608</td>\n",
              "      <td>Spain</td>\n",
              "      <td>Female</td>\n",
              "      <td>41</td>\n",
              "      <td>1</td>\n",
              "      <td>83807.86</td>\n",
              "      <td>1</td>\n",
              "      <td>0</td>\n",
              "      <td>1</td>\n",
              "      <td>112542.58</td>\n",
              "      <td>0</td>\n",
              "    </tr>\n",
              "    <tr>\n",
              "      <th>2</th>\n",
              "      <td>3</td>\n",
              "      <td>15619304</td>\n",
              "      <td>Onio</td>\n",
              "      <td>502</td>\n",
              "      <td>France</td>\n",
              "      <td>Female</td>\n",
              "      <td>42</td>\n",
              "      <td>8</td>\n",
              "      <td>159660.80</td>\n",
              "      <td>3</td>\n",
              "      <td>1</td>\n",
              "      <td>0</td>\n",
              "      <td>113931.57</td>\n",
              "      <td>1</td>\n",
              "    </tr>\n",
              "    <tr>\n",
              "      <th>3</th>\n",
              "      <td>4</td>\n",
              "      <td>15701354</td>\n",
              "      <td>Boni</td>\n",
              "      <td>699</td>\n",
              "      <td>France</td>\n",
              "      <td>Female</td>\n",
              "      <td>39</td>\n",
              "      <td>1</td>\n",
              "      <td>0.00</td>\n",
              "      <td>2</td>\n",
              "      <td>0</td>\n",
              "      <td>0</td>\n",
              "      <td>93826.63</td>\n",
              "      <td>0</td>\n",
              "    </tr>\n",
              "    <tr>\n",
              "      <th>4</th>\n",
              "      <td>5</td>\n",
              "      <td>15737888</td>\n",
              "      <td>Mitchell</td>\n",
              "      <td>850</td>\n",
              "      <td>Spain</td>\n",
              "      <td>Female</td>\n",
              "      <td>43</td>\n",
              "      <td>2</td>\n",
              "      <td>125510.82</td>\n",
              "      <td>1</td>\n",
              "      <td>1</td>\n",
              "      <td>1</td>\n",
              "      <td>79084.10</td>\n",
              "      <td>0</td>\n",
              "    </tr>\n",
              "  </tbody>\n",
              "</table>\n",
              "</div>"
            ],
            "text/plain": [
              "   RowNumber  CustomerId   Surname  ...  IsActiveMember EstimatedSalary Exited\n",
              "0          1    15634602  Hargrave  ...               1       101348.88      1\n",
              "1          2    15647311      Hill  ...               1       112542.58      0\n",
              "2          3    15619304      Onio  ...               0       113931.57      1\n",
              "3          4    15701354      Boni  ...               0        93826.63      0\n",
              "4          5    15737888  Mitchell  ...               1        79084.10      0\n",
              "\n",
              "[5 rows x 14 columns]"
            ]
          },
          "metadata": {
            "tags": []
          },
          "execution_count": 4
        }
      ]
    },
    {
      "cell_type": "code",
      "metadata": {
        "id": "HMPnnwXb70D2",
        "colab_type": "code",
        "colab": {
          "base_uri": "https://localhost:8080/",
          "height": 272
        },
        "outputId": "1ecdfb08-d002-4384-f694-404136bded21"
      },
      "source": [
        "df.isnull().sum()"
      ],
      "execution_count": 5,
      "outputs": [
        {
          "output_type": "execute_result",
          "data": {
            "text/plain": [
              "RowNumber          0\n",
              "CustomerId         0\n",
              "Surname            0\n",
              "CreditScore        0\n",
              "Geography          0\n",
              "Gender             0\n",
              "Age                0\n",
              "Tenure             0\n",
              "Balance            0\n",
              "NumOfProducts      0\n",
              "HasCrCard          0\n",
              "IsActiveMember     0\n",
              "EstimatedSalary    0\n",
              "Exited             0\n",
              "dtype: int64"
            ]
          },
          "metadata": {
            "tags": []
          },
          "execution_count": 5
        }
      ]
    },
    {
      "cell_type": "code",
      "metadata": {
        "id": "f0FhSYLd74ez",
        "colab_type": "code",
        "colab": {
          "base_uri": "https://localhost:8080/",
          "height": 85
        },
        "outputId": "dd6f5dc1-5777-4468-839b-b0f5ed50dc2d"
      },
      "source": [
        "df.columns"
      ],
      "execution_count": 6,
      "outputs": [
        {
          "output_type": "execute_result",
          "data": {
            "text/plain": [
              "Index(['RowNumber', 'CustomerId', 'Surname', 'CreditScore', 'Geography',\n",
              "       'Gender', 'Age', 'Tenure', 'Balance', 'NumOfProducts', 'HasCrCard',\n",
              "       'IsActiveMember', 'EstimatedSalary', 'Exited'],\n",
              "      dtype='object')"
            ]
          },
          "metadata": {
            "tags": []
          },
          "execution_count": 6
        }
      ]
    },
    {
      "cell_type": "code",
      "metadata": {
        "id": "RZLN4xX077i0",
        "colab_type": "code",
        "colab": {
          "base_uri": "https://localhost:8080/",
          "height": 204
        },
        "outputId": "1a0e7ae0-64c9-47ca-dd96-72767076f0ce"
      },
      "source": [
        "df.tail()"
      ],
      "execution_count": 7,
      "outputs": [
        {
          "output_type": "execute_result",
          "data": {
            "text/html": [
              "<div>\n",
              "<style scoped>\n",
              "    .dataframe tbody tr th:only-of-type {\n",
              "        vertical-align: middle;\n",
              "    }\n",
              "\n",
              "    .dataframe tbody tr th {\n",
              "        vertical-align: top;\n",
              "    }\n",
              "\n",
              "    .dataframe thead th {\n",
              "        text-align: right;\n",
              "    }\n",
              "</style>\n",
              "<table border=\"1\" class=\"dataframe\">\n",
              "  <thead>\n",
              "    <tr style=\"text-align: right;\">\n",
              "      <th></th>\n",
              "      <th>RowNumber</th>\n",
              "      <th>CustomerId</th>\n",
              "      <th>Surname</th>\n",
              "      <th>CreditScore</th>\n",
              "      <th>Geography</th>\n",
              "      <th>Gender</th>\n",
              "      <th>Age</th>\n",
              "      <th>Tenure</th>\n",
              "      <th>Balance</th>\n",
              "      <th>NumOfProducts</th>\n",
              "      <th>HasCrCard</th>\n",
              "      <th>IsActiveMember</th>\n",
              "      <th>EstimatedSalary</th>\n",
              "      <th>Exited</th>\n",
              "    </tr>\n",
              "  </thead>\n",
              "  <tbody>\n",
              "    <tr>\n",
              "      <th>9995</th>\n",
              "      <td>9996</td>\n",
              "      <td>15606229</td>\n",
              "      <td>Obijiaku</td>\n",
              "      <td>771</td>\n",
              "      <td>France</td>\n",
              "      <td>Male</td>\n",
              "      <td>39</td>\n",
              "      <td>5</td>\n",
              "      <td>0.00</td>\n",
              "      <td>2</td>\n",
              "      <td>1</td>\n",
              "      <td>0</td>\n",
              "      <td>96270.64</td>\n",
              "      <td>0</td>\n",
              "    </tr>\n",
              "    <tr>\n",
              "      <th>9996</th>\n",
              "      <td>9997</td>\n",
              "      <td>15569892</td>\n",
              "      <td>Johnstone</td>\n",
              "      <td>516</td>\n",
              "      <td>France</td>\n",
              "      <td>Male</td>\n",
              "      <td>35</td>\n",
              "      <td>10</td>\n",
              "      <td>57369.61</td>\n",
              "      <td>1</td>\n",
              "      <td>1</td>\n",
              "      <td>1</td>\n",
              "      <td>101699.77</td>\n",
              "      <td>0</td>\n",
              "    </tr>\n",
              "    <tr>\n",
              "      <th>9997</th>\n",
              "      <td>9998</td>\n",
              "      <td>15584532</td>\n",
              "      <td>Liu</td>\n",
              "      <td>709</td>\n",
              "      <td>France</td>\n",
              "      <td>Female</td>\n",
              "      <td>36</td>\n",
              "      <td>7</td>\n",
              "      <td>0.00</td>\n",
              "      <td>1</td>\n",
              "      <td>0</td>\n",
              "      <td>1</td>\n",
              "      <td>42085.58</td>\n",
              "      <td>1</td>\n",
              "    </tr>\n",
              "    <tr>\n",
              "      <th>9998</th>\n",
              "      <td>9999</td>\n",
              "      <td>15682355</td>\n",
              "      <td>Sabbatini</td>\n",
              "      <td>772</td>\n",
              "      <td>Germany</td>\n",
              "      <td>Male</td>\n",
              "      <td>42</td>\n",
              "      <td>3</td>\n",
              "      <td>75075.31</td>\n",
              "      <td>2</td>\n",
              "      <td>1</td>\n",
              "      <td>0</td>\n",
              "      <td>92888.52</td>\n",
              "      <td>1</td>\n",
              "    </tr>\n",
              "    <tr>\n",
              "      <th>9999</th>\n",
              "      <td>10000</td>\n",
              "      <td>15628319</td>\n",
              "      <td>Walker</td>\n",
              "      <td>792</td>\n",
              "      <td>France</td>\n",
              "      <td>Female</td>\n",
              "      <td>28</td>\n",
              "      <td>4</td>\n",
              "      <td>130142.79</td>\n",
              "      <td>1</td>\n",
              "      <td>1</td>\n",
              "      <td>0</td>\n",
              "      <td>38190.78</td>\n",
              "      <td>0</td>\n",
              "    </tr>\n",
              "  </tbody>\n",
              "</table>\n",
              "</div>"
            ],
            "text/plain": [
              "      RowNumber  CustomerId    Surname  ...  IsActiveMember EstimatedSalary Exited\n",
              "9995       9996    15606229   Obijiaku  ...               0        96270.64      0\n",
              "9996       9997    15569892  Johnstone  ...               1       101699.77      0\n",
              "9997       9998    15584532        Liu  ...               1        42085.58      1\n",
              "9998       9999    15682355  Sabbatini  ...               0        92888.52      1\n",
              "9999      10000    15628319     Walker  ...               0        38190.78      0\n",
              "\n",
              "[5 rows x 14 columns]"
            ]
          },
          "metadata": {
            "tags": []
          },
          "execution_count": 7
        }
      ]
    },
    {
      "cell_type": "code",
      "metadata": {
        "id": "sk1pT7wN7-Kq",
        "colab_type": "code",
        "colab": {
          "base_uri": "https://localhost:8080/",
          "height": 34
        },
        "outputId": "9547fcc0-92a2-42e6-af41-723217f55037"
      },
      "source": [
        "df.shape"
      ],
      "execution_count": 8,
      "outputs": [
        {
          "output_type": "execute_result",
          "data": {
            "text/plain": [
              "(10000, 14)"
            ]
          },
          "metadata": {
            "tags": []
          },
          "execution_count": 8
        }
      ]
    },
    {
      "cell_type": "code",
      "metadata": {
        "id": "PT_Wro3A9E_E",
        "colab_type": "code",
        "colab": {}
      },
      "source": [
        "df_new=pd.get_dummies(df,columns={'Geography','Gender'},drop_first=True)\n"
      ],
      "execution_count": 11,
      "outputs": []
    },
    {
      "cell_type": "code",
      "metadata": {
        "id": "-fqxlM7o-Pab",
        "colab_type": "code",
        "colab": {
          "base_uri": "https://localhost:8080/",
          "height": 224
        },
        "outputId": "d279a66d-a32f-4447-d72e-db459fd522c5"
      },
      "source": [
        "df_new.head()"
      ],
      "execution_count": 12,
      "outputs": [
        {
          "output_type": "execute_result",
          "data": {
            "text/html": [
              "<div>\n",
              "<style scoped>\n",
              "    .dataframe tbody tr th:only-of-type {\n",
              "        vertical-align: middle;\n",
              "    }\n",
              "\n",
              "    .dataframe tbody tr th {\n",
              "        vertical-align: top;\n",
              "    }\n",
              "\n",
              "    .dataframe thead th {\n",
              "        text-align: right;\n",
              "    }\n",
              "</style>\n",
              "<table border=\"1\" class=\"dataframe\">\n",
              "  <thead>\n",
              "    <tr style=\"text-align: right;\">\n",
              "      <th></th>\n",
              "      <th>RowNumber</th>\n",
              "      <th>CustomerId</th>\n",
              "      <th>Surname</th>\n",
              "      <th>CreditScore</th>\n",
              "      <th>Age</th>\n",
              "      <th>Tenure</th>\n",
              "      <th>Balance</th>\n",
              "      <th>NumOfProducts</th>\n",
              "      <th>HasCrCard</th>\n",
              "      <th>IsActiveMember</th>\n",
              "      <th>EstimatedSalary</th>\n",
              "      <th>Exited</th>\n",
              "      <th>Geography_Germany</th>\n",
              "      <th>Geography_Spain</th>\n",
              "      <th>Gender_Male</th>\n",
              "    </tr>\n",
              "  </thead>\n",
              "  <tbody>\n",
              "    <tr>\n",
              "      <th>0</th>\n",
              "      <td>1</td>\n",
              "      <td>15634602</td>\n",
              "      <td>Hargrave</td>\n",
              "      <td>619</td>\n",
              "      <td>42</td>\n",
              "      <td>2</td>\n",
              "      <td>0.00</td>\n",
              "      <td>1</td>\n",
              "      <td>1</td>\n",
              "      <td>1</td>\n",
              "      <td>101348.88</td>\n",
              "      <td>1</td>\n",
              "      <td>0</td>\n",
              "      <td>0</td>\n",
              "      <td>0</td>\n",
              "    </tr>\n",
              "    <tr>\n",
              "      <th>1</th>\n",
              "      <td>2</td>\n",
              "      <td>15647311</td>\n",
              "      <td>Hill</td>\n",
              "      <td>608</td>\n",
              "      <td>41</td>\n",
              "      <td>1</td>\n",
              "      <td>83807.86</td>\n",
              "      <td>1</td>\n",
              "      <td>0</td>\n",
              "      <td>1</td>\n",
              "      <td>112542.58</td>\n",
              "      <td>0</td>\n",
              "      <td>0</td>\n",
              "      <td>1</td>\n",
              "      <td>0</td>\n",
              "    </tr>\n",
              "    <tr>\n",
              "      <th>2</th>\n",
              "      <td>3</td>\n",
              "      <td>15619304</td>\n",
              "      <td>Onio</td>\n",
              "      <td>502</td>\n",
              "      <td>42</td>\n",
              "      <td>8</td>\n",
              "      <td>159660.80</td>\n",
              "      <td>3</td>\n",
              "      <td>1</td>\n",
              "      <td>0</td>\n",
              "      <td>113931.57</td>\n",
              "      <td>1</td>\n",
              "      <td>0</td>\n",
              "      <td>0</td>\n",
              "      <td>0</td>\n",
              "    </tr>\n",
              "    <tr>\n",
              "      <th>3</th>\n",
              "      <td>4</td>\n",
              "      <td>15701354</td>\n",
              "      <td>Boni</td>\n",
              "      <td>699</td>\n",
              "      <td>39</td>\n",
              "      <td>1</td>\n",
              "      <td>0.00</td>\n",
              "      <td>2</td>\n",
              "      <td>0</td>\n",
              "      <td>0</td>\n",
              "      <td>93826.63</td>\n",
              "      <td>0</td>\n",
              "      <td>0</td>\n",
              "      <td>0</td>\n",
              "      <td>0</td>\n",
              "    </tr>\n",
              "    <tr>\n",
              "      <th>4</th>\n",
              "      <td>5</td>\n",
              "      <td>15737888</td>\n",
              "      <td>Mitchell</td>\n",
              "      <td>850</td>\n",
              "      <td>43</td>\n",
              "      <td>2</td>\n",
              "      <td>125510.82</td>\n",
              "      <td>1</td>\n",
              "      <td>1</td>\n",
              "      <td>1</td>\n",
              "      <td>79084.10</td>\n",
              "      <td>0</td>\n",
              "      <td>0</td>\n",
              "      <td>1</td>\n",
              "      <td>0</td>\n",
              "    </tr>\n",
              "  </tbody>\n",
              "</table>\n",
              "</div>"
            ],
            "text/plain": [
              "   RowNumber  CustomerId  ... Geography_Spain  Gender_Male\n",
              "0          1    15634602  ...               0            0\n",
              "1          2    15647311  ...               1            0\n",
              "2          3    15619304  ...               0            0\n",
              "3          4    15701354  ...               0            0\n",
              "4          5    15737888  ...               1            0\n",
              "\n",
              "[5 rows x 15 columns]"
            ]
          },
          "metadata": {
            "tags": []
          },
          "execution_count": 12
        }
      ]
    },
    {
      "cell_type": "code",
      "metadata": {
        "id": "LyWlaTDo-SZ5",
        "colab_type": "code",
        "colab": {}
      },
      "source": [
        "df_new=df_new.drop(['RowNumber','CustomerId','Surname'],axis=1)"
      ],
      "execution_count": 15,
      "outputs": []
    },
    {
      "cell_type": "code",
      "metadata": {
        "id": "pBqFgBtA-pN0",
        "colab_type": "code",
        "colab": {
          "base_uri": "https://localhost:8080/",
          "height": 204
        },
        "outputId": "e0c5c679-64e6-4489-f85c-f4779c5f115d"
      },
      "source": [
        "df_new.head()"
      ],
      "execution_count": 16,
      "outputs": [
        {
          "output_type": "execute_result",
          "data": {
            "text/html": [
              "<div>\n",
              "<style scoped>\n",
              "    .dataframe tbody tr th:only-of-type {\n",
              "        vertical-align: middle;\n",
              "    }\n",
              "\n",
              "    .dataframe tbody tr th {\n",
              "        vertical-align: top;\n",
              "    }\n",
              "\n",
              "    .dataframe thead th {\n",
              "        text-align: right;\n",
              "    }\n",
              "</style>\n",
              "<table border=\"1\" class=\"dataframe\">\n",
              "  <thead>\n",
              "    <tr style=\"text-align: right;\">\n",
              "      <th></th>\n",
              "      <th>CreditScore</th>\n",
              "      <th>Age</th>\n",
              "      <th>Tenure</th>\n",
              "      <th>Balance</th>\n",
              "      <th>NumOfProducts</th>\n",
              "      <th>HasCrCard</th>\n",
              "      <th>IsActiveMember</th>\n",
              "      <th>EstimatedSalary</th>\n",
              "      <th>Exited</th>\n",
              "      <th>Geography_Germany</th>\n",
              "      <th>Geography_Spain</th>\n",
              "      <th>Gender_Male</th>\n",
              "    </tr>\n",
              "  </thead>\n",
              "  <tbody>\n",
              "    <tr>\n",
              "      <th>0</th>\n",
              "      <td>619</td>\n",
              "      <td>42</td>\n",
              "      <td>2</td>\n",
              "      <td>0.00</td>\n",
              "      <td>1</td>\n",
              "      <td>1</td>\n",
              "      <td>1</td>\n",
              "      <td>101348.88</td>\n",
              "      <td>1</td>\n",
              "      <td>0</td>\n",
              "      <td>0</td>\n",
              "      <td>0</td>\n",
              "    </tr>\n",
              "    <tr>\n",
              "      <th>1</th>\n",
              "      <td>608</td>\n",
              "      <td>41</td>\n",
              "      <td>1</td>\n",
              "      <td>83807.86</td>\n",
              "      <td>1</td>\n",
              "      <td>0</td>\n",
              "      <td>1</td>\n",
              "      <td>112542.58</td>\n",
              "      <td>0</td>\n",
              "      <td>0</td>\n",
              "      <td>1</td>\n",
              "      <td>0</td>\n",
              "    </tr>\n",
              "    <tr>\n",
              "      <th>2</th>\n",
              "      <td>502</td>\n",
              "      <td>42</td>\n",
              "      <td>8</td>\n",
              "      <td>159660.80</td>\n",
              "      <td>3</td>\n",
              "      <td>1</td>\n",
              "      <td>0</td>\n",
              "      <td>113931.57</td>\n",
              "      <td>1</td>\n",
              "      <td>0</td>\n",
              "      <td>0</td>\n",
              "      <td>0</td>\n",
              "    </tr>\n",
              "    <tr>\n",
              "      <th>3</th>\n",
              "      <td>699</td>\n",
              "      <td>39</td>\n",
              "      <td>1</td>\n",
              "      <td>0.00</td>\n",
              "      <td>2</td>\n",
              "      <td>0</td>\n",
              "      <td>0</td>\n",
              "      <td>93826.63</td>\n",
              "      <td>0</td>\n",
              "      <td>0</td>\n",
              "      <td>0</td>\n",
              "      <td>0</td>\n",
              "    </tr>\n",
              "    <tr>\n",
              "      <th>4</th>\n",
              "      <td>850</td>\n",
              "      <td>43</td>\n",
              "      <td>2</td>\n",
              "      <td>125510.82</td>\n",
              "      <td>1</td>\n",
              "      <td>1</td>\n",
              "      <td>1</td>\n",
              "      <td>79084.10</td>\n",
              "      <td>0</td>\n",
              "      <td>0</td>\n",
              "      <td>1</td>\n",
              "      <td>0</td>\n",
              "    </tr>\n",
              "  </tbody>\n",
              "</table>\n",
              "</div>"
            ],
            "text/plain": [
              "   CreditScore  Age  Tenure  ...  Geography_Germany  Geography_Spain  Gender_Male\n",
              "0          619   42       2  ...                  0                0            0\n",
              "1          608   41       1  ...                  0                1            0\n",
              "2          502   42       8  ...                  0                0            0\n",
              "3          699   39       1  ...                  0                0            0\n",
              "4          850   43       2  ...                  0                1            0\n",
              "\n",
              "[5 rows x 12 columns]"
            ]
          },
          "metadata": {
            "tags": []
          },
          "execution_count": 16
        }
      ]
    },
    {
      "cell_type": "code",
      "metadata": {
        "id": "5kjzv_OS_D60",
        "colab_type": "code",
        "colab": {}
      },
      "source": [
        "data=df_new.iloc[:,[8,0,1,2,3,4,5,6,7,9,10,11]]"
      ],
      "execution_count": 22,
      "outputs": []
    },
    {
      "cell_type": "code",
      "metadata": {
        "id": "9BftvjrD_Tvd",
        "colab_type": "code",
        "colab": {
          "base_uri": "https://localhost:8080/",
          "height": 204
        },
        "outputId": "e21dc5d0-7dc5-4709-f492-91eebc51dee5"
      },
      "source": [
        "data.head()"
      ],
      "execution_count": 23,
      "outputs": [
        {
          "output_type": "execute_result",
          "data": {
            "text/html": [
              "<div>\n",
              "<style scoped>\n",
              "    .dataframe tbody tr th:only-of-type {\n",
              "        vertical-align: middle;\n",
              "    }\n",
              "\n",
              "    .dataframe tbody tr th {\n",
              "        vertical-align: top;\n",
              "    }\n",
              "\n",
              "    .dataframe thead th {\n",
              "        text-align: right;\n",
              "    }\n",
              "</style>\n",
              "<table border=\"1\" class=\"dataframe\">\n",
              "  <thead>\n",
              "    <tr style=\"text-align: right;\">\n",
              "      <th></th>\n",
              "      <th>Exited</th>\n",
              "      <th>CreditScore</th>\n",
              "      <th>Age</th>\n",
              "      <th>Tenure</th>\n",
              "      <th>Balance</th>\n",
              "      <th>NumOfProducts</th>\n",
              "      <th>HasCrCard</th>\n",
              "      <th>IsActiveMember</th>\n",
              "      <th>EstimatedSalary</th>\n",
              "      <th>Geography_Germany</th>\n",
              "      <th>Geography_Spain</th>\n",
              "      <th>Gender_Male</th>\n",
              "    </tr>\n",
              "  </thead>\n",
              "  <tbody>\n",
              "    <tr>\n",
              "      <th>0</th>\n",
              "      <td>1</td>\n",
              "      <td>619</td>\n",
              "      <td>42</td>\n",
              "      <td>2</td>\n",
              "      <td>0.00</td>\n",
              "      <td>1</td>\n",
              "      <td>1</td>\n",
              "      <td>1</td>\n",
              "      <td>101348.88</td>\n",
              "      <td>0</td>\n",
              "      <td>0</td>\n",
              "      <td>0</td>\n",
              "    </tr>\n",
              "    <tr>\n",
              "      <th>1</th>\n",
              "      <td>0</td>\n",
              "      <td>608</td>\n",
              "      <td>41</td>\n",
              "      <td>1</td>\n",
              "      <td>83807.86</td>\n",
              "      <td>1</td>\n",
              "      <td>0</td>\n",
              "      <td>1</td>\n",
              "      <td>112542.58</td>\n",
              "      <td>0</td>\n",
              "      <td>1</td>\n",
              "      <td>0</td>\n",
              "    </tr>\n",
              "    <tr>\n",
              "      <th>2</th>\n",
              "      <td>1</td>\n",
              "      <td>502</td>\n",
              "      <td>42</td>\n",
              "      <td>8</td>\n",
              "      <td>159660.80</td>\n",
              "      <td>3</td>\n",
              "      <td>1</td>\n",
              "      <td>0</td>\n",
              "      <td>113931.57</td>\n",
              "      <td>0</td>\n",
              "      <td>0</td>\n",
              "      <td>0</td>\n",
              "    </tr>\n",
              "    <tr>\n",
              "      <th>3</th>\n",
              "      <td>0</td>\n",
              "      <td>699</td>\n",
              "      <td>39</td>\n",
              "      <td>1</td>\n",
              "      <td>0.00</td>\n",
              "      <td>2</td>\n",
              "      <td>0</td>\n",
              "      <td>0</td>\n",
              "      <td>93826.63</td>\n",
              "      <td>0</td>\n",
              "      <td>0</td>\n",
              "      <td>0</td>\n",
              "    </tr>\n",
              "    <tr>\n",
              "      <th>4</th>\n",
              "      <td>0</td>\n",
              "      <td>850</td>\n",
              "      <td>43</td>\n",
              "      <td>2</td>\n",
              "      <td>125510.82</td>\n",
              "      <td>1</td>\n",
              "      <td>1</td>\n",
              "      <td>1</td>\n",
              "      <td>79084.10</td>\n",
              "      <td>0</td>\n",
              "      <td>1</td>\n",
              "      <td>0</td>\n",
              "    </tr>\n",
              "  </tbody>\n",
              "</table>\n",
              "</div>"
            ],
            "text/plain": [
              "   Exited  CreditScore  Age  ...  Geography_Germany  Geography_Spain  Gender_Male\n",
              "0       1          619   42  ...                  0                0            0\n",
              "1       0          608   41  ...                  0                1            0\n",
              "2       1          502   42  ...                  0                0            0\n",
              "3       0          699   39  ...                  0                0            0\n",
              "4       0          850   43  ...                  0                1            0\n",
              "\n",
              "[5 rows x 12 columns]"
            ]
          },
          "metadata": {
            "tags": []
          },
          "execution_count": 23
        }
      ]
    },
    {
      "cell_type": "code",
      "metadata": {
        "id": "7GMtfc-K_dir",
        "colab_type": "code",
        "colab": {}
      },
      "source": [
        "X=data.iloc[:,1:12]"
      ],
      "execution_count": 24,
      "outputs": []
    },
    {
      "cell_type": "code",
      "metadata": {
        "id": "4DsKt1Oy_g6Y",
        "colab_type": "code",
        "colab": {
          "base_uri": "https://localhost:8080/",
          "height": 204
        },
        "outputId": "0b44fd1f-1a0a-480b-e170-b2d478343ac8"
      },
      "source": [
        "X.head()"
      ],
      "execution_count": 25,
      "outputs": [
        {
          "output_type": "execute_result",
          "data": {
            "text/html": [
              "<div>\n",
              "<style scoped>\n",
              "    .dataframe tbody tr th:only-of-type {\n",
              "        vertical-align: middle;\n",
              "    }\n",
              "\n",
              "    .dataframe tbody tr th {\n",
              "        vertical-align: top;\n",
              "    }\n",
              "\n",
              "    .dataframe thead th {\n",
              "        text-align: right;\n",
              "    }\n",
              "</style>\n",
              "<table border=\"1\" class=\"dataframe\">\n",
              "  <thead>\n",
              "    <tr style=\"text-align: right;\">\n",
              "      <th></th>\n",
              "      <th>CreditScore</th>\n",
              "      <th>Age</th>\n",
              "      <th>Tenure</th>\n",
              "      <th>Balance</th>\n",
              "      <th>NumOfProducts</th>\n",
              "      <th>HasCrCard</th>\n",
              "      <th>IsActiveMember</th>\n",
              "      <th>EstimatedSalary</th>\n",
              "      <th>Geography_Germany</th>\n",
              "      <th>Geography_Spain</th>\n",
              "      <th>Gender_Male</th>\n",
              "    </tr>\n",
              "  </thead>\n",
              "  <tbody>\n",
              "    <tr>\n",
              "      <th>0</th>\n",
              "      <td>619</td>\n",
              "      <td>42</td>\n",
              "      <td>2</td>\n",
              "      <td>0.00</td>\n",
              "      <td>1</td>\n",
              "      <td>1</td>\n",
              "      <td>1</td>\n",
              "      <td>101348.88</td>\n",
              "      <td>0</td>\n",
              "      <td>0</td>\n",
              "      <td>0</td>\n",
              "    </tr>\n",
              "    <tr>\n",
              "      <th>1</th>\n",
              "      <td>608</td>\n",
              "      <td>41</td>\n",
              "      <td>1</td>\n",
              "      <td>83807.86</td>\n",
              "      <td>1</td>\n",
              "      <td>0</td>\n",
              "      <td>1</td>\n",
              "      <td>112542.58</td>\n",
              "      <td>0</td>\n",
              "      <td>1</td>\n",
              "      <td>0</td>\n",
              "    </tr>\n",
              "    <tr>\n",
              "      <th>2</th>\n",
              "      <td>502</td>\n",
              "      <td>42</td>\n",
              "      <td>8</td>\n",
              "      <td>159660.80</td>\n",
              "      <td>3</td>\n",
              "      <td>1</td>\n",
              "      <td>0</td>\n",
              "      <td>113931.57</td>\n",
              "      <td>0</td>\n",
              "      <td>0</td>\n",
              "      <td>0</td>\n",
              "    </tr>\n",
              "    <tr>\n",
              "      <th>3</th>\n",
              "      <td>699</td>\n",
              "      <td>39</td>\n",
              "      <td>1</td>\n",
              "      <td>0.00</td>\n",
              "      <td>2</td>\n",
              "      <td>0</td>\n",
              "      <td>0</td>\n",
              "      <td>93826.63</td>\n",
              "      <td>0</td>\n",
              "      <td>0</td>\n",
              "      <td>0</td>\n",
              "    </tr>\n",
              "    <tr>\n",
              "      <th>4</th>\n",
              "      <td>850</td>\n",
              "      <td>43</td>\n",
              "      <td>2</td>\n",
              "      <td>125510.82</td>\n",
              "      <td>1</td>\n",
              "      <td>1</td>\n",
              "      <td>1</td>\n",
              "      <td>79084.10</td>\n",
              "      <td>0</td>\n",
              "      <td>1</td>\n",
              "      <td>0</td>\n",
              "    </tr>\n",
              "  </tbody>\n",
              "</table>\n",
              "</div>"
            ],
            "text/plain": [
              "   CreditScore  Age  Tenure  ...  Geography_Germany  Geography_Spain  Gender_Male\n",
              "0          619   42       2  ...                  0                0            0\n",
              "1          608   41       1  ...                  0                1            0\n",
              "2          502   42       8  ...                  0                0            0\n",
              "3          699   39       1  ...                  0                0            0\n",
              "4          850   43       2  ...                  0                1            0\n",
              "\n",
              "[5 rows x 11 columns]"
            ]
          },
          "metadata": {
            "tags": []
          },
          "execution_count": 25
        }
      ]
    },
    {
      "cell_type": "code",
      "metadata": {
        "id": "zR9yb5UQ_jbs",
        "colab_type": "code",
        "colab": {}
      },
      "source": [
        "y=data.iloc[:,0]"
      ],
      "execution_count": 26,
      "outputs": []
    },
    {
      "cell_type": "code",
      "metadata": {
        "id": "sYs2XVuABRN_",
        "colab_type": "code",
        "colab": {
          "base_uri": "https://localhost:8080/",
          "height": 119
        },
        "outputId": "d8d7ae52-1097-43fa-98e0-66b38f1a18e0"
      },
      "source": [
        "y.head()"
      ],
      "execution_count": 27,
      "outputs": [
        {
          "output_type": "execute_result",
          "data": {
            "text/plain": [
              "0    1\n",
              "1    0\n",
              "2    1\n",
              "3    0\n",
              "4    0\n",
              "Name: Exited, dtype: int64"
            ]
          },
          "metadata": {
            "tags": []
          },
          "execution_count": 27
        }
      ]
    },
    {
      "cell_type": "code",
      "metadata": {
        "id": "8toqNJjCBSrW",
        "colab_type": "code",
        "colab": {}
      },
      "source": [
        "from sklearn.model_selection import  train_test_split"
      ],
      "execution_count": 32,
      "outputs": []
    },
    {
      "cell_type": "code",
      "metadata": {
        "id": "XU032jQ8BZFb",
        "colab_type": "code",
        "colab": {}
      },
      "source": [
        "from sklearn.preprocessing import scale"
      ],
      "execution_count": 36,
      "outputs": []
    },
    {
      "cell_type": "code",
      "metadata": {
        "id": "Yxo8kS-lCFO_",
        "colab_type": "code",
        "colab": {}
      },
      "source": [
        "x=scale(X)"
      ],
      "execution_count": 37,
      "outputs": []
    },
    {
      "cell_type": "code",
      "metadata": {
        "id": "pq0wauv-CIdM",
        "colab_type": "code",
        "colab": {}
      },
      "source": [
        "X_train,X_test,y_train,y_test=train_test_split(x,y,test_size=0.3)"
      ],
      "execution_count": 38,
      "outputs": []
    },
    {
      "cell_type": "code",
      "metadata": {
        "id": "7NeM0SzVDFlS",
        "colab_type": "code",
        "colab": {
          "base_uri": "https://localhost:8080/",
          "height": 34
        },
        "outputId": "99d01186-f108-449e-f3b8-697212557249"
      },
      "source": [
        "X_train.shape"
      ],
      "execution_count": 42,
      "outputs": [
        {
          "output_type": "execute_result",
          "data": {
            "text/plain": [
              "(7000, 11)"
            ]
          },
          "metadata": {
            "tags": []
          },
          "execution_count": 42
        }
      ]
    },
    {
      "cell_type": "code",
      "metadata": {
        "id": "NCFrekhZEEZZ",
        "colab_type": "code",
        "colab": {
          "base_uri": "https://localhost:8080/",
          "height": 34
        },
        "outputId": "24568c45-adda-4410-b667-16a997054174"
      },
      "source": [
        "X_test.shape\n",
        "\n"
      ],
      "execution_count": 43,
      "outputs": [
        {
          "output_type": "execute_result",
          "data": {
            "text/plain": [
              "(3000, 11)"
            ]
          },
          "metadata": {
            "tags": []
          },
          "execution_count": 43
        }
      ]
    },
    {
      "cell_type": "code",
      "metadata": {
        "id": "AXnH0yhzEUeV",
        "colab_type": "code",
        "colab": {
          "base_uri": "https://localhost:8080/",
          "height": 34
        },
        "outputId": "b9d2e39d-18f1-421d-a2aa-e12ca530df14"
      },
      "source": [
        "y_train.shape"
      ],
      "execution_count": 44,
      "outputs": [
        {
          "output_type": "execute_result",
          "data": {
            "text/plain": [
              "(7000,)"
            ]
          },
          "metadata": {
            "tags": []
          },
          "execution_count": 44
        }
      ]
    },
    {
      "cell_type": "code",
      "metadata": {
        "id": "LxHv_KsWEWf2",
        "colab_type": "code",
        "colab": {
          "base_uri": "https://localhost:8080/",
          "height": 34
        },
        "outputId": "19113cf8-e931-4656-d592-1ddb2394eadc"
      },
      "source": [
        "y_test.shape"
      ],
      "execution_count": 45,
      "outputs": [
        {
          "output_type": "execute_result",
          "data": {
            "text/plain": [
              "(3000,)"
            ]
          },
          "metadata": {
            "tags": []
          },
          "execution_count": 45
        }
      ]
    },
    {
      "cell_type": "code",
      "metadata": {
        "id": "gQee4IvKEYSt",
        "colab_type": "code",
        "colab": {}
      },
      "source": [
        "############Now lets make ANNN###################\n"
      ],
      "execution_count": 46,
      "outputs": []
    },
    {
      "cell_type": "code",
      "metadata": {
        "id": "zmq2YQK3EfHo",
        "colab_type": "code",
        "colab": {
          "base_uri": "https://localhost:8080/",
          "height": 34
        },
        "outputId": "7363cfdd-6886-47a7-cdcc-61ad90f94317"
      },
      "source": [
        "import keras#Keras is an open-source neural-network library written in Python. It is capable of running on top of TensorFlow, Microsoft Cognitive Toolkit, R, Theano, or PlaidML.[2][3][4] Designed to enable fast experimentation with deep neural networks"
      ],
      "execution_count": 47,
      "outputs": [
        {
          "output_type": "stream",
          "text": [
            "Using TensorFlow backend.\n"
          ],
          "name": "stderr"
        }
      ]
    },
    {
      "cell_type": "code",
      "metadata": {
        "id": "dfbmzAisElgG",
        "colab_type": "code",
        "colab": {}
      },
      "source": [
        "from keras.models import Sequential#The sequential API allows you to create models layer-by-layer for most problems"
      ],
      "execution_count": 49,
      "outputs": []
    },
    {
      "cell_type": "code",
      "metadata": {
        "id": "WRE5CoZCFYJi",
        "colab_type": "code",
        "colab": {}
      },
      "source": [
        "from keras.layers import Dense #The name suggests that layers are fully connected (dense) by the neurons in a network layer. Each neuron in a layer receives an input from all the neurons present in the previous layer—thus, they're densely connected."
      ],
      "execution_count": 51,
      "outputs": []
    },
    {
      "cell_type": "code",
      "metadata": {
        "id": "TKqrHmHSF87N",
        "colab_type": "code",
        "colab": {}
      },
      "source": [
        "from keras.layers import LeakyReLU,PReLU,ELU#Importing activation functions"
      ],
      "execution_count": 52,
      "outputs": []
    },
    {
      "cell_type": "code",
      "metadata": {
        "id": "RA8nkywuGjDw",
        "colab_type": "code",
        "colab": {}
      },
      "source": [
        "from keras.layers import Dropout#Dropout is a technique where randomly selected neurons are ignored during training"
      ],
      "execution_count": 54,
      "outputs": []
    },
    {
      "cell_type": "code",
      "metadata": {
        "id": "KcLBacf_GpvZ",
        "colab_type": "code",
        "colab": {}
      },
      "source": [
        "#Initializing the ANN\n",
        "classifier=Sequential()"
      ],
      "execution_count": 56,
      "outputs": []
    },
    {
      "cell_type": "code",
      "metadata": {
        "id": "CVaF-aSuHBFs",
        "colab_type": "code",
        "colab": {
          "base_uri": "https://localhost:8080/",
          "height": 71
        },
        "outputId": "7b503788-c7c5-4dab-8f23-f69aee310266"
      },
      "source": [
        "#Adding the input layer and the first hidden layer\n",
        "classifier.add(Dense(output_dim=6,activation='relu',init='he_uniform',input_dim=11))"
      ],
      "execution_count": 57,
      "outputs": [
        {
          "output_type": "stream",
          "text": [
            "/usr/local/lib/python3.6/dist-packages/ipykernel_launcher.py:2: UserWarning: Update your `Dense` call to the Keras 2 API: `Dense(activation=\"relu\", input_dim=11, units=6, kernel_initializer=\"he_uniform\")`\n",
            "  \n"
          ],
          "name": "stderr"
        }
      ]
    },
    {
      "cell_type": "code",
      "metadata": {
        "id": "y_yMCw_9IKuY",
        "colab_type": "code",
        "colab": {
          "base_uri": "https://localhost:8080/",
          "height": 71
        },
        "outputId": "33524594-3b5b-4deb-e548-c70632ff710a"
      },
      "source": [
        "#Adding the second hidden layer\n",
        "classifier.add(Dense(output_dim=6,activation='relu',init='he_uniform'))"
      ],
      "execution_count": 58,
      "outputs": [
        {
          "output_type": "stream",
          "text": [
            "/usr/local/lib/python3.6/dist-packages/ipykernel_launcher.py:2: UserWarning: Update your `Dense` call to the Keras 2 API: `Dense(activation=\"relu\", units=6, kernel_initializer=\"he_uniform\")`\n",
            "  \n"
          ],
          "name": "stderr"
        }
      ]
    },
    {
      "cell_type": "code",
      "metadata": {
        "id": "3Po0Z8OpImuI",
        "colab_type": "code",
        "colab": {
          "base_uri": "https://localhost:8080/",
          "height": 71
        },
        "outputId": "8b531dd8-e191-46a9-8eea-c57806bfba0e"
      },
      "source": [
        "classifier.add(Dense(output_dim=1,activation='sigmoid',init='glorot_uniform'))#Adding the output layer"
      ],
      "execution_count": 59,
      "outputs": [
        {
          "output_type": "stream",
          "text": [
            "/usr/local/lib/python3.6/dist-packages/ipykernel_launcher.py:1: UserWarning: Update your `Dense` call to the Keras 2 API: `Dense(activation=\"sigmoid\", units=1, kernel_initializer=\"glorot_uniform\")`\n",
            "  \"\"\"Entry point for launching an IPython kernel.\n"
          ],
          "name": "stderr"
        }
      ]
    },
    {
      "cell_type": "code",
      "metadata": {
        "id": "T9z5vnFdJod4",
        "colab_type": "code",
        "colab": {}
      },
      "source": [
        "#Compiling the ANN\n",
        "classifier.compile(optimizer='Adamax',loss='binary_crossentropy',metrics=['accuracy'])"
      ],
      "execution_count": 64,
      "outputs": []
    },
    {
      "cell_type": "code",
      "metadata": {
        "id": "y3MIt9bhKRzl",
        "colab_type": "code",
        "colab": {
          "base_uri": "https://localhost:8080/",
          "height": 1000
        },
        "outputId": "4ce8318f-c5a5-4f03-b93e-0192f7a43317"
      },
      "source": [
        "#Fitting the ANN to the training data\n",
        "model_history=classifier.fit(X_train,y_train,batch_size=10,epochs=100)"
      ],
      "execution_count": 67,
      "outputs": [
        {
          "output_type": "stream",
          "text": [
            "Epoch 1/100\n",
            "7000/7000 [==============================] - 4s 580us/step - loss: 0.5072 - accuracy: 0.8006\n",
            "Epoch 2/100\n",
            "7000/7000 [==============================] - 2s 333us/step - loss: 0.4707 - accuracy: 0.8014\n",
            "Epoch 3/100\n",
            "7000/7000 [==============================] - 2s 328us/step - loss: 0.4550 - accuracy: 0.8014\n",
            "Epoch 4/100\n",
            "7000/7000 [==============================] - 2s 331us/step - loss: 0.4437 - accuracy: 0.8014\n",
            "Epoch 5/100\n",
            "7000/7000 [==============================] - 2s 330us/step - loss: 0.4358 - accuracy: 0.8014\n",
            "Epoch 6/100\n",
            "7000/7000 [==============================] - 3s 358us/step - loss: 0.4297 - accuracy: 0.8017\n",
            "Epoch 7/100\n",
            "7000/7000 [==============================] - 3s 361us/step - loss: 0.4231 - accuracy: 0.8024\n",
            "Epoch 8/100\n",
            "7000/7000 [==============================] - 2s 333us/step - loss: 0.4160 - accuracy: 0.8040\n",
            "Epoch 9/100\n",
            "7000/7000 [==============================] - 2s 331us/step - loss: 0.4087 - accuracy: 0.8074\n",
            "Epoch 10/100\n",
            "7000/7000 [==============================] - 2s 328us/step - loss: 0.4013 - accuracy: 0.8206\n",
            "Epoch 11/100\n",
            "7000/7000 [==============================] - 2s 339us/step - loss: 0.3934 - accuracy: 0.8364\n",
            "Epoch 12/100\n",
            "7000/7000 [==============================] - 2s 331us/step - loss: 0.3860 - accuracy: 0.8433\n",
            "Epoch 13/100\n",
            "7000/7000 [==============================] - 2s 335us/step - loss: 0.3792 - accuracy: 0.8471\n",
            "Epoch 14/100\n",
            "7000/7000 [==============================] - 2s 328us/step - loss: 0.3725 - accuracy: 0.8497\n",
            "Epoch 15/100\n",
            "7000/7000 [==============================] - 2s 329us/step - loss: 0.3667 - accuracy: 0.8547\n",
            "Epoch 16/100\n",
            "7000/7000 [==============================] - 2s 334us/step - loss: 0.3621 - accuracy: 0.8554\n",
            "Epoch 17/100\n",
            "7000/7000 [==============================] - 2s 330us/step - loss: 0.3584 - accuracy: 0.8607\n",
            "Epoch 18/100\n",
            "7000/7000 [==============================] - 2s 330us/step - loss: 0.3552 - accuracy: 0.8584\n",
            "Epoch 19/100\n",
            "7000/7000 [==============================] - 2s 333us/step - loss: 0.3527 - accuracy: 0.8600\n",
            "Epoch 20/100\n",
            "7000/7000 [==============================] - 2s 326us/step - loss: 0.3508 - accuracy: 0.8587\n",
            "Epoch 21/100\n",
            "7000/7000 [==============================] - 2s 331us/step - loss: 0.3491 - accuracy: 0.8604\n",
            "Epoch 22/100\n",
            "7000/7000 [==============================] - 2s 349us/step - loss: 0.3477 - accuracy: 0.8620\n",
            "Epoch 23/100\n",
            "7000/7000 [==============================] - 3s 357us/step - loss: 0.3465 - accuracy: 0.8624\n",
            "Epoch 24/100\n",
            "7000/7000 [==============================] - 3s 359us/step - loss: 0.3453 - accuracy: 0.8624\n",
            "Epoch 25/100\n",
            "7000/7000 [==============================] - 3s 362us/step - loss: 0.3447 - accuracy: 0.8621\n",
            "Epoch 26/100\n",
            "7000/7000 [==============================] - 2s 352us/step - loss: 0.3439 - accuracy: 0.8620\n",
            "Epoch 27/100\n",
            "7000/7000 [==============================] - 2s 320us/step - loss: 0.3431 - accuracy: 0.8610\n",
            "Epoch 28/100\n",
            "7000/7000 [==============================] - 2s 335us/step - loss: 0.3426 - accuracy: 0.8633\n",
            "Epoch 29/100\n",
            "7000/7000 [==============================] - 2s 332us/step - loss: 0.3420 - accuracy: 0.8634\n",
            "Epoch 30/100\n",
            "7000/7000 [==============================] - 2s 335us/step - loss: 0.3415 - accuracy: 0.8649\n",
            "Epoch 31/100\n",
            "7000/7000 [==============================] - 2s 328us/step - loss: 0.3412 - accuracy: 0.8627\n",
            "Epoch 32/100\n",
            "7000/7000 [==============================] - 2s 328us/step - loss: 0.3407 - accuracy: 0.8634\n",
            "Epoch 33/100\n",
            "7000/7000 [==============================] - 2s 338us/step - loss: 0.3401 - accuracy: 0.8639\n",
            "Epoch 34/100\n",
            "7000/7000 [==============================] - 2s 334us/step - loss: 0.3402 - accuracy: 0.8644\n",
            "Epoch 35/100\n",
            "7000/7000 [==============================] - 2s 329us/step - loss: 0.3399 - accuracy: 0.8641\n",
            "Epoch 36/100\n",
            "7000/7000 [==============================] - 2s 329us/step - loss: 0.3396 - accuracy: 0.8629\n",
            "Epoch 37/100\n",
            "7000/7000 [==============================] - 2s 328us/step - loss: 0.3392 - accuracy: 0.8643\n",
            "Epoch 38/100\n",
            "7000/7000 [==============================] - 2s 328us/step - loss: 0.3390 - accuracy: 0.8657\n",
            "Epoch 39/100\n",
            "7000/7000 [==============================] - 2s 339us/step - loss: 0.3389 - accuracy: 0.8651\n",
            "Epoch 40/100\n",
            "7000/7000 [==============================] - 2s 330us/step - loss: 0.3385 - accuracy: 0.8660\n",
            "Epoch 41/100\n",
            "7000/7000 [==============================] - 2s 335us/step - loss: 0.3382 - accuracy: 0.8640\n",
            "Epoch 42/100\n",
            "7000/7000 [==============================] - 2s 333us/step - loss: 0.3379 - accuracy: 0.8650\n",
            "Epoch 43/100\n",
            "7000/7000 [==============================] - 2s 324us/step - loss: 0.3378 - accuracy: 0.8666\n",
            "Epoch 44/100\n",
            "7000/7000 [==============================] - 2s 328us/step - loss: 0.3373 - accuracy: 0.8651\n",
            "Epoch 45/100\n",
            "7000/7000 [==============================] - 2s 326us/step - loss: 0.3375 - accuracy: 0.8666\n",
            "Epoch 46/100\n",
            "7000/7000 [==============================] - 2s 337us/step - loss: 0.3372 - accuracy: 0.8653\n",
            "Epoch 47/100\n",
            "7000/7000 [==============================] - 2s 332us/step - loss: 0.3367 - accuracy: 0.8660\n",
            "Epoch 48/100\n",
            "7000/7000 [==============================] - 2s 326us/step - loss: 0.3366 - accuracy: 0.8656\n",
            "Epoch 49/100\n",
            "7000/7000 [==============================] - 2s 329us/step - loss: 0.3363 - accuracy: 0.8663\n",
            "Epoch 50/100\n",
            "7000/7000 [==============================] - 2s 334us/step - loss: 0.3363 - accuracy: 0.8659\n",
            "Epoch 51/100\n",
            "7000/7000 [==============================] - 2s 328us/step - loss: 0.3360 - accuracy: 0.8651\n",
            "Epoch 52/100\n",
            "7000/7000 [==============================] - 2s 323us/step - loss: 0.3361 - accuracy: 0.8660\n",
            "Epoch 53/100\n",
            "7000/7000 [==============================] - 2s 326us/step - loss: 0.3360 - accuracy: 0.8657\n",
            "Epoch 54/100\n",
            "7000/7000 [==============================] - 2s 335us/step - loss: 0.3353 - accuracy: 0.8657\n",
            "Epoch 55/100\n",
            "7000/7000 [==============================] - 2s 324us/step - loss: 0.3356 - accuracy: 0.8671\n",
            "Epoch 56/100\n",
            "7000/7000 [==============================] - 2s 324us/step - loss: 0.3352 - accuracy: 0.8669\n",
            "Epoch 57/100\n",
            "7000/7000 [==============================] - 2s 331us/step - loss: 0.3351 - accuracy: 0.8673\n",
            "Epoch 58/100\n",
            "7000/7000 [==============================] - 2s 328us/step - loss: 0.3352 - accuracy: 0.8667\n",
            "Epoch 59/100\n",
            "7000/7000 [==============================] - 2s 329us/step - loss: 0.3350 - accuracy: 0.8666\n",
            "Epoch 60/100\n",
            "7000/7000 [==============================] - 2s 327us/step - loss: 0.3348 - accuracy: 0.8669\n",
            "Epoch 61/100\n",
            "7000/7000 [==============================] - 2s 328us/step - loss: 0.3348 - accuracy: 0.8667\n",
            "Epoch 62/100\n",
            "7000/7000 [==============================] - 2s 335us/step - loss: 0.3349 - accuracy: 0.8660\n",
            "Epoch 63/100\n",
            "7000/7000 [==============================] - 2s 328us/step - loss: 0.3344 - accuracy: 0.8669\n",
            "Epoch 64/100\n",
            "7000/7000 [==============================] - 2s 329us/step - loss: 0.3344 - accuracy: 0.8661\n",
            "Epoch 65/100\n",
            "7000/7000 [==============================] - 2s 329us/step - loss: 0.3345 - accuracy: 0.8659\n",
            "Epoch 66/100\n",
            "7000/7000 [==============================] - 2s 330us/step - loss: 0.3342 - accuracy: 0.8683\n",
            "Epoch 67/100\n",
            "7000/7000 [==============================] - 2s 327us/step - loss: 0.3340 - accuracy: 0.8679\n",
            "Epoch 68/100\n",
            "7000/7000 [==============================] - 2s 328us/step - loss: 0.3342 - accuracy: 0.8670\n",
            "Epoch 69/100\n",
            "7000/7000 [==============================] - 2s 328us/step - loss: 0.3338 - accuracy: 0.8667\n",
            "Epoch 70/100\n",
            "7000/7000 [==============================] - 2s 334us/step - loss: 0.3340 - accuracy: 0.8659\n",
            "Epoch 71/100\n",
            "7000/7000 [==============================] - 2s 330us/step - loss: 0.3340 - accuracy: 0.8669\n",
            "Epoch 72/100\n",
            "7000/7000 [==============================] - 2s 335us/step - loss: 0.3339 - accuracy: 0.8671\n",
            "Epoch 73/100\n",
            "7000/7000 [==============================] - 2s 330us/step - loss: 0.3340 - accuracy: 0.8659\n",
            "Epoch 74/100\n",
            "7000/7000 [==============================] - 2s 326us/step - loss: 0.3335 - accuracy: 0.8669\n",
            "Epoch 75/100\n",
            "7000/7000 [==============================] - 2s 327us/step - loss: 0.3338 - accuracy: 0.8656\n",
            "Epoch 76/100\n",
            "7000/7000 [==============================] - 2s 329us/step - loss: 0.3332 - accuracy: 0.8657\n",
            "Epoch 77/100\n",
            "7000/7000 [==============================] - 2s 336us/step - loss: 0.3335 - accuracy: 0.8666\n",
            "Epoch 78/100\n",
            "7000/7000 [==============================] - 2s 327us/step - loss: 0.3336 - accuracy: 0.8654\n",
            "Epoch 79/100\n",
            "7000/7000 [==============================] - 2s 329us/step - loss: 0.3335 - accuracy: 0.8663\n",
            "Epoch 80/100\n",
            "7000/7000 [==============================] - 2s 334us/step - loss: 0.3334 - accuracy: 0.8661\n",
            "Epoch 81/100\n",
            "7000/7000 [==============================] - 2s 327us/step - loss: 0.3333 - accuracy: 0.8674\n",
            "Epoch 82/100\n",
            "7000/7000 [==============================] - 2s 331us/step - loss: 0.3332 - accuracy: 0.8656\n",
            "Epoch 83/100\n",
            "7000/7000 [==============================] - 2s 329us/step - loss: 0.3332 - accuracy: 0.8674\n",
            "Epoch 84/100\n",
            "7000/7000 [==============================] - 2s 325us/step - loss: 0.3333 - accuracy: 0.8660\n",
            "Epoch 85/100\n",
            "7000/7000 [==============================] - 2s 333us/step - loss: 0.3331 - accuracy: 0.8669\n",
            "Epoch 86/100\n",
            "7000/7000 [==============================] - 2s 331us/step - loss: 0.3331 - accuracy: 0.8667\n",
            "Epoch 87/100\n",
            "7000/7000 [==============================] - 2s 332us/step - loss: 0.3330 - accuracy: 0.8666\n",
            "Epoch 88/100\n",
            "7000/7000 [==============================] - 2s 345us/step - loss: 0.3332 - accuracy: 0.8657\n",
            "Epoch 89/100\n",
            "7000/7000 [==============================] - 2s 328us/step - loss: 0.3327 - accuracy: 0.8674\n",
            "Epoch 90/100\n",
            "7000/7000 [==============================] - 2s 324us/step - loss: 0.3328 - accuracy: 0.8679\n",
            "Epoch 91/100\n",
            "7000/7000 [==============================] - 2s 324us/step - loss: 0.3328 - accuracy: 0.8673\n",
            "Epoch 92/100\n",
            "7000/7000 [==============================] - 2s 327us/step - loss: 0.3328 - accuracy: 0.8659\n",
            "Epoch 93/100\n",
            "7000/7000 [==============================] - 2s 328us/step - loss: 0.3327 - accuracy: 0.8681\n",
            "Epoch 94/100\n",
            "7000/7000 [==============================] - 2s 325us/step - loss: 0.3327 - accuracy: 0.8681\n",
            "Epoch 95/100\n",
            "7000/7000 [==============================] - 2s 324us/step - loss: 0.3328 - accuracy: 0.8674\n",
            "Epoch 96/100\n",
            "7000/7000 [==============================] - 2s 334us/step - loss: 0.3321 - accuracy: 0.8666\n",
            "Epoch 97/100\n",
            "7000/7000 [==============================] - 2s 326us/step - loss: 0.3326 - accuracy: 0.8670\n",
            "Epoch 98/100\n",
            "7000/7000 [==============================] - 2s 328us/step - loss: 0.3325 - accuracy: 0.8656\n",
            "Epoch 99/100\n",
            "7000/7000 [==============================] - 2s 329us/step - loss: 0.3326 - accuracy: 0.8680\n",
            "Epoch 100/100\n",
            "7000/7000 [==============================] - 2s 326us/step - loss: 0.3326 - accuracy: 0.8671\n"
          ],
          "name": "stdout"
        }
      ]
    },
    {
      "cell_type": "code",
      "metadata": {
        "id": "uRLIQionK1mP",
        "colab_type": "code",
        "colab": {
          "base_uri": "https://localhost:8080/",
          "height": 34
        },
        "outputId": "9d404aed-3dc1-4d44-86c3-a9fdbe0500e7"
      },
      "source": [
        "print(model_history.history.keys())"
      ],
      "execution_count": 68,
      "outputs": [
        {
          "output_type": "stream",
          "text": [
            "dict_keys(['loss', 'accuracy'])\n"
          ],
          "name": "stdout"
        }
      ]
    },
    {
      "cell_type": "code",
      "metadata": {
        "id": "uf_inlKkMaEo",
        "colab_type": "code",
        "colab": {}
      },
      "source": [
        "#Making the predictions and Evaluating the models\n",
        "y_pred=classifier.predict(X_test)\n",
        "y_pred=(y_pred>0.5)"
      ],
      "execution_count": 82,
      "outputs": []
    },
    {
      "cell_type": "code",
      "metadata": {
        "id": "pgYCLni_NNxl",
        "colab_type": "code",
        "colab": {}
      },
      "source": [
        "from sklearn.metrics import confusion_matrix,accuracy_score"
      ],
      "execution_count": 86,
      "outputs": []
    },
    {
      "cell_type": "code",
      "metadata": {
        "id": "7Cw2kTvvOal4",
        "colab_type": "code",
        "colab": {
          "base_uri": "https://localhost:8080/",
          "height": 51
        },
        "outputId": "ac10deec-f42d-4024-accb-7674fde9c8b1"
      },
      "source": [
        "print(confusion_matrix(y_test,y_pred))"
      ],
      "execution_count": 85,
      "outputs": [
        {
          "output_type": "stream",
          "text": [
            "[[2251  102]\n",
            " [ 338  309]]\n"
          ],
          "name": "stdout"
        }
      ]
    },
    {
      "cell_type": "code",
      "metadata": {
        "id": "t7LU0sXXOqZF",
        "colab_type": "code",
        "colab": {
          "base_uri": "https://localhost:8080/",
          "height": 34
        },
        "outputId": "a8a2361e-03ab-42ee-f319-e7b771fad5b7"
      },
      "source": [
        "print(accuracy_score(y_test,y_pred))"
      ],
      "execution_count": 87,
      "outputs": [
        {
          "output_type": "stream",
          "text": [
            "0.8533333333333334\n"
          ],
          "name": "stdout"
        }
      ]
    },
    {
      "cell_type": "code",
      "metadata": {
        "id": "bZtGqFMVPF5N",
        "colab_type": "code",
        "colab": {}
      },
      "source": [
        ""
      ],
      "execution_count": null,
      "outputs": []
    }
  ]
}